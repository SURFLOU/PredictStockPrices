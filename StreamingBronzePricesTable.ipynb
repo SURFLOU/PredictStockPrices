{
 "cells": [
  {
   "cell_type": "code",
   "execution_count": 0,
   "metadata": {
    "application/vnd.databricks.v1+cell": {
     "cellMetadata": {
      "byteLimit": 2048000,
      "rowLimit": 10000
     },
     "inputWidgets": {},
     "nuid": "e04d0ded-d0a2-4ab5-bae3-43c688e69e55",
     "showTitle": false,
     "tableResultSettingsMap": {},
     "title": ""
    }
   },
   "outputs": [],
   "source": [
    "EVENT_HUB_CONNECTION_STR = dbutils.secrets.get(scope = \"eventhubs\", key = \"EVENT_HUB_CONNECTION_STR\")\n",
    "\"\"\"\n",
    "eHconf = {\n",
    "    'eventhubs.connectionString': sc._jvm.org.apache.spark.eventhubs.EventHubsUtils.encrypt(EVENT_HUB_CONNECTION_STR),\n",
    "    'eventhubs.eventHubName': 'liveprices',\n",
    "    \"startingPosition\": \"@earliest\"\n",
    "}\n",
    "\"\"\"\n",
    "\n",
    "EH_NAMESPACE                    = 'predictstockpriceskafka'\n",
    "EH_NAME                         = 'liveprices'\n",
    "\n",
    "EH_CONN_STR                     = EVENT_HUB_CONNECTION_STR\n",
    "\n",
    "KAFKA_OPTIONS = {\n",
    "  \"kafka.bootstrap.servers\"  : f\"{EH_NAMESPACE}.servicebus.windows.net:9093\",\n",
    "  \"subscribe\"                : EH_NAME,\n",
    "  \"kafka.sasl.mechanism\"     : \"PLAIN\",\n",
    "  \"kafka.security.protocol\"  : \"SASL_SSL\",\n",
    "  \"kafka.sasl.jaas.config\"   : f\"kafkashaded.org.apache.kafka.common.security.plain.PlainLoginModule required username=\\\"$ConnectionString\\\" password=\\\"{EH_CONN_STR}\\\";\",\n",
    "  \"startingOffsets\"          : \"earliest\",\n",
    "}"
   ]
  },
  {
   "cell_type": "code",
   "execution_count": 0,
   "metadata": {
    "application/vnd.databricks.v1+cell": {
     "cellMetadata": {
      "byteLimit": 2048000,
      "rowLimit": 10000
     },
     "inputWidgets": {},
     "nuid": "068cc8f2-dade-4c05-9a4f-5281a71193a5",
     "showTitle": false,
     "tableResultSettingsMap": {},
     "title": ""
    }
   },
   "outputs": [],
   "source": [
    "from pyspark.sql.functions import *\n",
    "\n",
    "df = spark.readStream \\\n",
    "    .format(\"kafka\") \\\n",
    "    .options(**KAFKA_OPTIONS) \\\n",
    "    .load()\n",
    "\n",
    "df.display()\n"
   ]
  }
 ],
 "metadata": {
  "application/vnd.databricks.v1+notebook": {
   "computePreferences": null,
   "dashboards": [],
   "environmentMetadata": {
    "base_environment": "",
    "environment_version": "2"
   },
   "inputWidgetPreferences": null,
   "language": "python",
   "notebookMetadata": {
    "pythonIndentUnit": 4
   },
   "notebookName": "StreamingBronzePricesTable",
   "widgets": {}
  },
  "language_info": {
   "name": "python"
  }
 },
 "nbformat": 4,
 "nbformat_minor": 0
}
