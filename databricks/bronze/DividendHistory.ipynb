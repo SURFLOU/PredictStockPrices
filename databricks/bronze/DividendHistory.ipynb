{
 "cells": [
  {
   "cell_type": "code",
   "execution_count": 0,
   "metadata": {
    "application/vnd.databricks.v1+cell": {
     "cellMetadata": {
      "byteLimit": 2048000,
      "rowLimit": 10000
     },
     "inputWidgets": {},
     "nuid": "b4b457a3-8d16-428a-a118-ed7e2a8b9080",
     "showTitle": false,
     "tableResultSettingsMap": {},
     "title": ""
    }
   },
   "outputs": [],
   "source": [
    "host = dbutils.secrets.get(scope = \"postgresql\", key = \"host\")\n",
    "database = dbutils.secrets.get(scope = \"postgresql\", key = \"database\")\n",
    "user = dbutils.secrets.get(scope = \"postgresql\", key = \"user\")\n",
    "password = dbutils.secrets.get(scope = \"postgresql\", key = \"password\")"
   ]
  },
  {
   "cell_type": "code",
   "execution_count": 0,
   "metadata": {
    "application/vnd.databricks.v1+cell": {
     "cellMetadata": {
      "byteLimit": 2048000,
      "rowLimit": 10000
     },
     "inputWidgets": {},
     "nuid": "35d94e58-6d16-487f-b761-5aea6c17a472",
     "showTitle": false,
     "tableResultSettingsMap": {},
     "title": ""
    }
   },
   "outputs": [],
   "source": [
    "dividends_table = (spark.read\n",
    "  .format(\"postgresql\")\n",
    "  .option(\"dbtable\", \"public.dividend_history\")\n",
    "  .option(\"host\", host)\n",
    "  .option(\"port\", \"5432\") \n",
    "  .option(\"database\", database)\n",
    "  .option(\"user\", user) \n",
    "  .option(\"password\", password)\n",
    "  .load()\n",
    ")"
   ]
  },
  {
   "cell_type": "code",
   "execution_count": 0,
   "metadata": {
    "application/vnd.databricks.v1+cell": {
     "cellMetadata": {
      "byteLimit": 2048000,
      "rowLimit": 10000
     },
     "inputWidgets": {},
     "nuid": "96f4901c-e0a6-41fb-9b72-8ed59e8057e0",
     "showTitle": false,
     "tableResultSettingsMap": {},
     "title": ""
    }
   },
   "outputs": [],
   "source": [
    "dividends_table.display()"
   ]
  },
  {
   "cell_type": "code",
   "execution_count": 0,
   "metadata": {
    "application/vnd.databricks.v1+cell": {
     "cellMetadata": {
      "byteLimit": 2048000,
      "rowLimit": 10000
     },
     "inputWidgets": {},
     "nuid": "0291fa73-d94a-4c82-8e4f-098dc8a0d5a9",
     "showTitle": false,
     "tableResultSettingsMap": {},
     "title": ""
    }
   },
   "outputs": [],
   "source": [
    "from delta.tables import DeltaTable\n",
    "\n",
    "table_name = \"plstocks.bronze_dividend_history\"\n",
    "if spark.catalog.tableExists(table_name):\n",
    "    ExistingDididendTable = DeltaTable.forName(spark, table_name)\n",
    "    ExistingDididendTable.alias(\"existing\") \\\n",
    "        .merge(\n",
    "            dividends_table.alias(\"updates\"),\n",
    "            \"existing.ticker = updates.ticker AND existing.dividend_year = updates.dividend_year\"\n",
    "        ) \\\n",
    "        .whenMatchedUpdateAll() \\\n",
    "        .whenNotMatchedInsertAll() \\\n",
    "        .execute()\n",
    "else:\n",
    "    dividends_table.write \\\n",
    "        .format(\"delta\") \\\n",
    "        .mode(\"overwrite\") \\\n",
    "        .saveAsTable(table_name)"
   ]
  }
 ],
 "metadata": {
  "application/vnd.databricks.v1+notebook": {
   "computePreferences": null,
   "dashboards": [],
   "environmentMetadata": {
    "base_environment": "",
    "environment_version": "2"
   },
   "inputWidgetPreferences": null,
   "language": "python",
   "notebookMetadata": {
    "pythonIndentUnit": 4
   },
   "notebookName": "DividendHistory",
   "widgets": {}
  },
  "language_info": {
   "name": "python"
  }
 },
 "nbformat": 4,
 "nbformat_minor": 0
}
