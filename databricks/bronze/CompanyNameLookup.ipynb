{
 "cells": [
  {
   "cell_type": "code",
   "execution_count": 0,
   "metadata": {
    "application/vnd.databricks.v1+cell": {
     "cellMetadata": {
      "byteLimit": 2048000,
      "rowLimit": 10000
     },
     "inputWidgets": {},
     "nuid": "231fcd40-6b90-41a8-a50f-9ba643b25e7e",
     "showTitle": false,
     "tableResultSettingsMap": {},
     "title": ""
    }
   },
   "outputs": [],
   "source": [
    "import requests\n",
    "import re \n",
    "\n",
    "def ingest_stock_names():\n",
    "    url = 'https://www.biznesradar.pl/gielda/akcje_gpw'\n",
    "    page_content = requests.get(url).text\n",
    "    matches = re.findall('<a href=\"\\/notowania.*<\\/a>', page_content)\n",
    "    for match in matches:\n",
    "        stock_name = match.split('title=\"')[1].split('\">')[0]\n",
    "        ticker = match.split(' (')[0].split('\">')[1].replace('</a>', '')\n",
    "        yield stock_name, ticker\n",
    "\n",
    "for a,b in ingest_stock_names():\n",
    "    print(a,b)"
   ]
  },
  {
   "cell_type": "code",
   "execution_count": 0,
   "metadata": {
    "application/vnd.databricks.v1+cell": {
     "cellMetadata": {
      "byteLimit": 2048000,
      "rowLimit": 10000
     },
     "inputWidgets": {},
     "nuid": "6519a4a0-2433-465f-a0f3-e07a52a6f9ef",
     "showTitle": false,
     "tableResultSettingsMap": {},
     "title": ""
    }
   },
   "outputs": [],
   "source": [
    "stocks = [] \n",
    "\n",
    "for stock_name, ticker in ingest_stock_names():\n",
    "    stocks.append((stock_name, ticker))\n",
    "\n",
    "schema = 'stock_name string, ticker string'\n",
    "df = spark.createDataFrame(stocks, schema)\n",
    "spark.sql(\"DROP TABLE IF EXISTS plstocks.bronze_company_name_lookup\")\n",
    "df.write.mode(\"overwrite\").saveAsTable(\"plstocks.bronze_company_name_lookup\")\n",
    "display(df)"
   ]
  }
 ],
 "metadata": {
  "application/vnd.databricks.v1+notebook": {
   "computePreferences": null,
   "dashboards": [],
   "environmentMetadata": {
    "base_environment": "",
    "environment_version": "2"
   },
   "inputWidgetPreferences": null,
   "language": "python",
   "notebookMetadata": {
    "pythonIndentUnit": 4
   },
   "notebookName": "CompanyNameLookup",
   "widgets": {}
  },
  "language_info": {
   "name": "python"
  }
 },
 "nbformat": 4,
 "nbformat_minor": 0
}
