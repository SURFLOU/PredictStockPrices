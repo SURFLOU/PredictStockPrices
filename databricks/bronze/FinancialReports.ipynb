{
 "cells": [
  {
   "cell_type": "code",
   "execution_count": 0,
   "metadata": {
    "application/vnd.databricks.v1+cell": {
     "cellMetadata": {
      "byteLimit": 2048000,
      "rowLimit": 10000
     },
     "inputWidgets": {},
     "nuid": "1ad7c40c-e7b9-4e4d-baf4-e153957d0773",
     "showTitle": false,
     "tableResultSettingsMap": {},
     "title": ""
    }
   },
   "outputs": [],
   "source": [
    "host = dbutils.secrets.get(scope = \"postgresql\", key = \"host\")\n",
    "database = dbutils.secrets.get(scope = \"postgresql\", key = \"database\")\n",
    "user = dbutils.secrets.get(scope = \"postgresql\", key = \"user\")\n",
    "password = dbutils.secrets.get(scope = \"postgresql\", key = \"password\")"
   ]
  },
  {
   "cell_type": "code",
   "execution_count": 0,
   "metadata": {
    "application/vnd.databricks.v1+cell": {
     "cellMetadata": {
      "byteLimit": 2048000,
      "rowLimit": 10000
     },
     "inputWidgets": {},
     "nuid": "1f33a5ac-3e8d-4b98-a327-ceea1851843c",
     "showTitle": false,
     "tableResultSettingsMap": {},
     "title": ""
    }
   },
   "outputs": [],
   "source": [
    "financial_reports_table = (spark.read\n",
    "  .format(\"postgresql\")\n",
    "  .option(\"dbtable\", \"public.financial_reports_raw\")\n",
    "  .option(\"host\", host)\n",
    "  .option(\"port\", \"5432\") \n",
    "  .option(\"database\", database)\n",
    "  .option(\"user\", user) \n",
    "  .option(\"password\", password)\n",
    "  .load()\n",
    ")"
   ]
  },
  {
   "cell_type": "code",
   "execution_count": 0,
   "metadata": {
    "application/vnd.databricks.v1+cell": {
     "cellMetadata": {
      "byteLimit": 2048000,
      "rowLimit": 10000
     },
     "inputWidgets": {},
     "nuid": "c6a9a083-127f-4a32-a904-6f2d4dbd22cd",
     "showTitle": false,
     "tableResultSettingsMap": {},
     "title": ""
    }
   },
   "outputs": [],
   "source": [
    "display(financial_reports_table)"
   ]
  },
  {
   "cell_type": "code",
   "execution_count": 0,
   "metadata": {
    "application/vnd.databricks.v1+cell": {
     "cellMetadata": {
      "byteLimit": 2048000,
      "rowLimit": 10000
     },
     "inputWidgets": {},
     "nuid": "129c7fa2-6e7c-4652-9493-684890a2dc0e",
     "showTitle": false,
     "tableResultSettingsMap": {},
     "title": ""
    }
   },
   "outputs": [],
   "source": [
    "%python\n",
    "display(financial_reports_table.dtypes)"
   ]
  },
  {
   "cell_type": "code",
   "execution_count": 0,
   "metadata": {
    "application/vnd.databricks.v1+cell": {
     "cellMetadata": {
      "byteLimit": 2048000,
      "rowLimit": 10000
     },
     "inputWidgets": {},
     "nuid": "d2b3f0b1-8aae-420f-866c-bf88c627ce8f",
     "showTitle": false,
     "tableResultSettingsMap": {},
     "title": ""
    }
   },
   "outputs": [],
   "source": [
    "%python\n",
    "from delta.tables import DeltaTable\n",
    "\n",
    "if DeltaTable.isDeltaTable(spark, \"plstocks.bronze_financial_reports\"):\n",
    "    deltaTable = DeltaTable.forPath(spark, \"plstocks.bronze_financial_reports\")\n",
    "    \n",
    "    deltaTable.alias(\"existing\") \\\n",
    "        .merge(\n",
    "            financial_reports_table.alias(\"new\"),\n",
    "            \"existing.ticker = new.ticker AND existing.year = new.year\"\n",
    "        ) \\\n",
    "        .whenMatchedUpdateAll() \\\n",
    "        .whenNotMatchedInsertAll() \\\n",
    "        .execute()\n",
    "else:\n",
    "    financial_reports_table.write.format(\"delta\").mode(\"overwrite\").saveAsTable(\"plstocks.bronze_financial_reports\")"
   ]
  }
 ],
 "metadata": {
  "application/vnd.databricks.v1+notebook": {
   "computePreferences": null,
   "dashboards": [],
   "environmentMetadata": {
    "base_environment": "",
    "environment_version": "2"
   },
   "inputWidgetPreferences": null,
   "language": "python",
   "notebookMetadata": {
    "pythonIndentUnit": 4
   },
   "notebookName": "FinancialReports",
   "widgets": {}
  },
  "language_info": {
   "name": "python"
  }
 },
 "nbformat": 4,
 "nbformat_minor": 0
}
