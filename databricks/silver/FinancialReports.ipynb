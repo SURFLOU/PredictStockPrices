{
 "cells": [
  {
   "cell_type": "code",
   "execution_count": 0,
   "metadata": {
    "application/vnd.databricks.v1+cell": {
     "cellMetadata": {
      "byteLimit": 2048000,
      "rowLimit": 10000
     },
     "inputWidgets": {},
     "nuid": "244894f5-3951-4848-a55c-708657621bb6",
     "showTitle": false,
     "tableResultSettingsMap": {},
     "title": ""
    }
   },
   "outputs": [],
   "source": [
    "%python\n",
    "bronze_table = spark.table(\"plstocks.bronze_financial_reports\")\n",
    "display(bronze_table)"
   ]
  },
  {
   "cell_type": "code",
   "execution_count": 0,
   "metadata": {
    "application/vnd.databricks.v1+cell": {
     "cellMetadata": {
      "byteLimit": 2048000,
      "rowLimit": 10000
     },
     "inputWidgets": {},
     "nuid": "fbbd7a12-ca78-4ddd-a40b-65551e29b572",
     "showTitle": false,
     "tableResultSettingsMap": {},
     "title": ""
    }
   },
   "outputs": [],
   "source": [
    "%python\n",
    "from pyspark.sql.functions import col, regexp_replace, length\n",
    "\n",
    "# Usuń rekordy zawierające litery i zamień kolumny na int (oprócz \"ticker\")\n",
    "columns_to_convert = [column for column in bronze_table.columns if column != \"ticker\"]\n",
    "\n",
    "bronze_table_cleaned = bronze_table\n",
    "for column in columns_to_convert:\n",
    "    bronze_table_cleaned = bronze_table_cleaned.withColumn(\n",
    "        column, \n",
    "        regexp_replace(col(column), '[^0-9]', '').cast('int')\n",
    "    )\n",
    "\n",
    "# Usuń wiersze, które mają null po konwersji na int\n",
    "bronze_table_cleaned = bronze_table_cleaned.na.drop()\n",
    "\n",
    "# Filtruj wiersze, gdzie liczba znaków w kolumnie \"year\" jest równa 4\n",
    "bronze_table_cleaned = bronze_table_cleaned.filter(length(col(\"year\")) == 4)\n",
    "\n",
    "# Usuń wiersze z brakującymi wartościami w kluczowych kolumnach\n",
    "silver_table = bronze_table_cleaned.dropna(subset=[\"ticker\", \"year\", \"ebitda\"])\n",
    "\n",
    "# Filtruj wiersze, gdzie wartość EBITDA jest większa niż 0\n",
    "silver_table = silver_table.filter(col(\"ebitda\") > 0)\n",
    "\n",
    "# Usuń duplikaty na podstawie kolumny \"ticker\" i \"year\"\n",
    "silver_table = silver_table.dropDuplicates([\"ticker\", \"year\"])\n",
    "\n",
    "# Filtruj wiersze, gdzie rok jest w rozsądnym zakresie (np. 1900-2100)\n",
    "silver_table = silver_table.filter((col(\"year\") >= 1900) & (col(\"year\") <= 2100))\n",
    "\n",
    "# Sprawdź, czy kolumna \"ticker\" zawiera tylko litery i cyfry\n",
    "silver_table = silver_table.filter(col(\"ticker\").rlike(\"^[a-zA-Z0-9]+$\"))\n",
    "\n",
    "# Filtruj wiersze, gdzie EBITDA jest większa niż EBIT\n",
    "silver_table = silver_table.filter(col(\"ebitda\") >= col(\"ebit\"))\n",
    "\n",
    "# Wyświetl przetworzoną tabelę Silver\n",
    "display(silver_table)"
   ]
  },
  {
   "cell_type": "code",
   "execution_count": 0,
   "metadata": {
    "application/vnd.databricks.v1+cell": {
     "cellMetadata": {
      "byteLimit": 2048000,
      "rowLimit": 10000
     },
     "inputWidgets": {},
     "nuid": "1b84252b-7105-4223-adaa-898d7ff19236",
     "showTitle": false,
     "tableResultSettingsMap": {},
     "title": ""
    }
   },
   "outputs": [],
   "source": [
    "%python\n",
    "from delta.tables import DeltaTable\n",
    "\n",
    "if DeltaTable.isDeltaTable(spark, \"plstocks.silver_financial_reports\"):\n",
    "    deltaTable = DeltaTable.forPath(spark, \"plstocks.silver_financial_reports\")\n",
    "    \n",
    "    deltaTable.alias(\"existing\") \\\n",
    "        .merge(\n",
    "            silver_table.alias(\"new\"),\n",
    "            \"existing.ticker = new.ticker AND existing.year = new.year\"\n",
    "        ) \\\n",
    "        .whenMatchedUpdateAll() \\\n",
    "        .whenNotMatchedInsertAll() \\\n",
    "        .execute()\n",
    "else:\n",
    "    silver_table.write.format(\"delta\").mode(\"overwrite\").saveAsTable(\"plstocks.silver_financial_reports\")"
   ]
  }
 ],
 "metadata": {
  "application/vnd.databricks.v1+notebook": {
   "computePreferences": null,
   "dashboards": [],
   "environmentMetadata": {
    "base_environment": "",
    "environment_version": "2"
   },
   "inputWidgetPreferences": null,
   "language": "python",
   "notebookMetadata": {
    "pythonIndentUnit": 4
   },
   "notebookName": "FinancialReports",
   "widgets": {}
  },
  "language_info": {
   "name": "python"
  }
 },
 "nbformat": 4,
 "nbformat_minor": 0
}
