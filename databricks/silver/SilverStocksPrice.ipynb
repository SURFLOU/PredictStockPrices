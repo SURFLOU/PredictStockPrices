{
 "cells": [
  {
   "cell_type": "code",
   "execution_count": 0,
   "metadata": {
    "application/vnd.databricks.v1+cell": {
     "cellMetadata": {
      "byteLimit": 2048000,
      "rowLimit": 10000
     },
     "inputWidgets": {},
     "nuid": "2d1a6ecb-cc80-4cf6-8418-29b292ecd403",
     "showTitle": false,
     "tableResultSettingsMap": {},
     "title": ""
    }
   },
   "outputs": [],
   "source": [
    "%python\n",
    "from pyspark.sql.functions import date_format, col, to_date, round\n",
    "\n",
    "# Wczytanie danych i połączenie\n",
    "silver_df = (spark.read.format(\"delta\").table(\"plstocks.bronze_prices_raw\")\n",
    "             .drop(\"<PER>\", \"<OPENINT>\")\n",
    "             .join(spark.read.format(\"delta\").table(\"plstocks.companynamelookup\"),\n",
    "                   col(\"<TICKER>\") == col(\"ticker\"), \"left\")\n",
    "             .drop(\"ticker\"))\n",
    "\n",
    "# Przekształcenie kolumny <DATE> i zmiana nazw kolumn\n",
    "silver_df = (silver_df.withColumn(\"DATE\", date_format(to_date(col(\"<DATE>\").cast(\"string\"), \"yyyyMMdd\"), \"dd-MM-yyyy\"))\n",
    "             .withColumnRenamed(\"<TICKER>\", \"TICKER\")\n",
    "             .withColumnRenamed(\"stock_name\", \"STOCK_NAME\")\n",
    "             .withColumnRenamed(\"<TIME>\", \"TIME\")\n",
    "             .withColumnRenamed(\"<OPEN>\", \"OPEN\")\n",
    "             .withColumnRenamed(\"<HIGH>\", \"HIGH\")\n",
    "             .withColumnRenamed(\"<LOW>\", \"LOW\")\n",
    "             .withColumnRenamed(\"<CLOSE>\", \"CLOSE\")\n",
    "             .withColumnRenamed(\"<VOL>\", \"VOL\"))\n",
    "\n",
    "# Formatowanie wartości kolumn\n",
    "for col_name in [\"OPEN\", \"HIGH\", \"LOW\", \"CLOSE\"]:\n",
    "    silver_df = silver_df.withColumn(col_name, round(col(col_name), 2).cast(\"double\"))\n",
    "\n",
    "# Wybór kolumn w odpowiedniej kolejności\n",
    "silver_df = silver_df.select(\"TICKER\", \"STOCK_NAME\", \"DATE\", \"TIME\", \"OPEN\", \"HIGH\", \"LOW\", \"CLOSE\", \"VOL\")\n",
    "\n",
    "display(silver_df)"
   ]
  },
  {
   "cell_type": "code",
   "execution_count": 0,
   "metadata": {
    "application/vnd.databricks.v1+cell": {
     "cellMetadata": {},
     "inputWidgets": {},
     "nuid": "1cbd85d1-61cf-4b1d-bdb5-c8e358f8e24c",
     "showTitle": false,
     "tableResultSettingsMap": {},
     "title": ""
    }
   },
   "outputs": [],
   "source": []
  }
 ],
 "metadata": {
  "application/vnd.databricks.v1+notebook": {
   "computePreferences": null,
   "dashboards": [],
   "environmentMetadata": {
    "base_environment": "",
    "environment_version": "2"
   },
   "inputWidgetPreferences": null,
   "language": "python",
   "notebookMetadata": {
    "pythonIndentUnit": 4
   },
   "notebookName": "SilverStocksPrice",
   "widgets": {}
  },
  "language_info": {
   "name": "python"
  }
 },
 "nbformat": 4,
 "nbformat_minor": 0
}
