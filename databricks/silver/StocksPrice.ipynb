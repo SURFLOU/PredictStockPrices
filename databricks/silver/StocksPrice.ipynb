{
 "cells": [
  {
   "cell_type": "code",
   "execution_count": 0,
   "metadata": {
    "application/vnd.databricks.v1+cell": {
     "cellMetadata": {
      "byteLimit": 2048000,
      "rowLimit": 10000
     },
     "inputWidgets": {},
     "nuid": "2d1a6ecb-cc80-4cf6-8418-29b292ecd403",
     "showTitle": false,
     "tableResultSettingsMap": {},
     "title": ""
    }
   },
   "outputs": [],
   "source": [
    "%python\n",
    "from pyspark.sql.functions import col, to_date, round, lit, current_date, date_sub, when\n",
    "\n",
    "# Wczytanie danych i połączenie\n",
    "silver_df = (spark.read.format(\"delta\").table(\"plstocks.bronze_historic_prices\")\n",
    "             .drop(\"<PER>\", \"<OPENINT>\")\n",
    "             .join(spark.read.format(\"delta\").table(\"plstocks.bronze_company_name_lookup\"),\n",
    "                   col(\"<TICKER>\") == col(\"ticker\"), \"left\")\n",
    "             .drop(\"ticker\"))\n",
    "\n",
    "# Przekształcenie kolumny <DATE> i zmiana nazw kolumn\n",
    "silver_df = (silver_df.withColumn(\"DATE\", to_date(col(\"<DATE>\").cast(\"string\"), \"yyyyMMdd\"))\n",
    "             .withColumnRenamed(\"<TICKER>\", \"TICKER\")\n",
    "             .withColumnRenamed(\"stock_name\", \"STOCK_NAME\")\n",
    "             .withColumnRenamed(\"<TIME>\", \"TIME\")\n",
    "             .withColumnRenamed(\"<OPEN>\", \"OPEN\")\n",
    "             .withColumnRenamed(\"<HIGH>\", \"HIGH\")\n",
    "             .withColumnRenamed(\"<LOW>\", \"LOW\")\n",
    "             .withColumnRenamed(\"<CLOSE>\", \"CLOSE\")\n",
    "             .withColumnRenamed(\"<VOL>\", \"VOL\"))\n",
    "\n",
    "# Formatowanie wartości kolumn\n",
    "for col_name in [\"OPEN\", \"HIGH\", \"LOW\", \"CLOSE\"]:\n",
    "    silver_df = silver_df.withColumn(col_name, round(col(col_name), 2).cast(\"double\"))\n",
    "\n",
    "# Dodanie kolumny ACTIVE\n",
    "silver_df = silver_df.withColumn(\"ACTIVE\", when(col(\"STOCK_NAME\").isNotNull(), True).otherwise(False))\n",
    "\n",
    "# Wybór kolumn w odpowiedniej kolejności\n",
    "silver_df = silver_df.select(\"TICKER\", \"STOCK_NAME\", \"DATE\", \"ACTIVE\", \"OPEN\", \"HIGH\", \"LOW\", \"CLOSE\", \"VOL\")\n",
    "\n",
    "# Zapisanie DataFrame jako tabela Delta z nadpisaniem schematu\n",
    "#silver_df.write.format(\"delta\").mode(\"overwrite\").option(\"overwriteSchema\", \"true\").saveAsTable(\"plstocks.silver_stocks_price\")\n",
    "\n",
    "display(silver_df)"
   ]
  },
  {
   "cell_type": "code",
   "execution_count": 0,
   "metadata": {
    "application/vnd.databricks.v1+cell": {
     "cellMetadata": {
      "byteLimit": 2048000,
      "rowLimit": 10000
     },
     "inputWidgets": {},
     "nuid": "3a3a4ec0-d5be-480b-9782-5e47f32c5c38",
     "showTitle": false,
     "tableResultSettingsMap": {
      "0": {
       "dataGridStateBlob": null,
       "filterBlob": "{\"version\":1,\"filterGroups\":[],\"syncTimestamp\":1748437643459}",
       "queryPlanFiltersBlob": "[]",
       "tableResultIndex": 0
      }
     },
     "title": ""
    }
   },
   "outputs": [],
   "source": [
    "%python\n",
    "from pyspark.sql.functions import col, to_date, max, min, first, last, count, date_format\n",
    "from pyspark.sql.functions import when\n",
    "\n",
    "# Wczytanie danych z tabeli plstocks.bronze_prices_raw_stream i join z tabelą lookup\n",
    "raw_stream_df = (spark.read.format(\"delta\").table(\"plstocks.bronze_prices_raw_stream\")\n",
    "                .join(spark.read.format(\"delta\").table(\"plstocks.bronze_company_name_lookup\"),\n",
    "                      col(\"plstocks.bronze_prices_raw_stream.ticker\") == col(\"plstocks.bronze_company_name_lookup.ticker\"), \"left\"))\n",
    "\n",
    "# Przekształcenie kolumny time na datę\n",
    "raw_stream_df = raw_stream_df.withColumn(\"DATE\", to_date(date_format(col(\"time\"), \"yyyy-MM-dd\")))\n",
    "\n",
    "# Agregacja danych - VOL to liczba rekordów (liczona przez count)\n",
    "aggregated_df = raw_stream_df.groupBy(\"plstocks.bronze_prices_raw_stream.ticker\", \"stock_name\", \"DATE\").agg(\n",
    "    max(col(\"price\")).alias(\"HIGH\"),\n",
    "    min(col(\"price\")).alias(\"LOW\"),\n",
    "    last(col(\"price\")).alias(\"CLOSE\"),\n",
    "    first(col(\"price\")).alias(\"OPEN\"),\n",
    "    count(col(\"price\")).alias(\"VOL\") \n",
    ")\n",
    "\n",
    "# Dodanie kolumny ACTIVE\n",
    "silver2_df = aggregated_df.withColumn(\"ACTIVE\", when(col(\"stock_name\").isNotNull(), True).otherwise(False))\n",
    "\n",
    "# Wybór kolumn w odpowiedniej kolejności\n",
    "silver2_df = silver2_df.select(\n",
    "    col(\"plstocks.bronze_prices_raw_stream.ticker\").alias(\"TICKER\"), \n",
    "    \"stock_name\", \n",
    "    \"DATE\", \n",
    "    \"ACTIVE\", \n",
    "    \"OPEN\", \n",
    "    \"HIGH\", \n",
    "    \"LOW\", \n",
    "    \"CLOSE\", \n",
    "    \"VOL\"\n",
    ")\n",
    "\n",
    "# Wyświetlenie wyniku\n",
    "display(silver2_df)"
   ]
  },
  {
   "cell_type": "code",
   "execution_count": 0,
   "metadata": {
    "application/vnd.databricks.v1+cell": {
     "cellMetadata": {
      "byteLimit": 2048000,
      "implicitDf": true,
      "rowLimit": 10000
     },
     "inputWidgets": {},
     "nuid": "c261997a-47b3-4d67-bbb4-698549bc2492",
     "showTitle": false,
     "tableResultSettingsMap": {},
     "title": ""
    }
   },
   "outputs": [],
   "source": [
    "%python\n",
    "# Połączenie silver_df z silver2_df\n",
    "combined_df = silver_df.unionByName(silver2_df)\n",
    "\n",
    "# Wyświetlenie połączonego DataFrame\n",
    "display(combined_df)"
   ]
  },
  {
   "cell_type": "code",
   "execution_count": 0,
   "metadata": {
    "application/vnd.databricks.v1+cell": {
     "cellMetadata": {
      "byteLimit": 2048000,
      "rowLimit": 10000
     },
     "inputWidgets": {},
     "nuid": "9a3ba5e1-7ae0-43ab-8c70-765d08d0cb97",
     "showTitle": false,
     "tableResultSettingsMap": {},
     "title": ""
    }
   },
   "outputs": [],
   "source": [
    "combined_df.write.format(\"delta\").mode(\"overwrite\").option(\"overwriteSchema\", \"true\").saveAsTable(\"plstocks.silver_stocks_price\")"
   ]
  }
 ],
 "metadata": {
  "application/vnd.databricks.v1+notebook": {
   "computePreferences": null,
   "dashboards": [],
   "environmentMetadata": {
    "base_environment": "",
    "environment_version": "2"
   },
   "inputWidgetPreferences": null,
   "language": "python",
   "notebookMetadata": {
    "mostRecentlyExecutedCommandWithImplicitDF": {
     "commandId": -1,
     "dataframes": [
      "_sqldf"
     ]
    },
    "pythonIndentUnit": 4
   },
   "notebookName": "StocksPrice",
   "widgets": {}
  },
  "language_info": {
   "name": "python"
  }
 },
 "nbformat": 4,
 "nbformat_minor": 0
}
