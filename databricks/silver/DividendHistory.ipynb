{
 "cells": [
  {
   "cell_type": "code",
   "execution_count": 0,
   "metadata": {
    "application/vnd.databricks.v1+cell": {
     "cellMetadata": {
      "byteLimit": 2048000,
      "rowLimit": 10000
     },
     "inputWidgets": {},
     "nuid": "eaa652eb-b540-4554-86d4-6a117e1434de",
     "showTitle": false,
     "tableResultSettingsMap": {},
     "title": ""
    }
   },
   "outputs": [],
   "source": [
    "df = spark.table(\"plstocks.bronze_dividend_history\")"
   ]
  },
  {
   "cell_type": "code",
   "execution_count": 0,
   "metadata": {
    "application/vnd.databricks.v1+cell": {
     "cellMetadata": {
      "byteLimit": 2048000,
      "rowLimit": 10000
     },
     "inputWidgets": {},
     "nuid": "fde2cb52-646f-4aa0-b5a1-ca60d703ba43",
     "showTitle": false,
     "tableResultSettingsMap": {},
     "title": ""
    }
   },
   "outputs": [],
   "source": [
    "df.display()"
   ]
  },
  {
   "cell_type": "code",
   "execution_count": 0,
   "metadata": {
    "application/vnd.databricks.v1+cell": {
     "cellMetadata": {
      "byteLimit": 2048000,
      "rowLimit": 10000
     },
     "inputWidgets": {},
     "nuid": "6e898b10-6763-4f8e-9d43-5efa7ae773bc",
     "showTitle": false,
     "tableResultSettingsMap": {},
     "title": ""
    }
   },
   "outputs": [],
   "source": [
    "df.createOrReplaceTempView(\"TempDividendHistory\")\n",
    "spark.sql(\"SELECT * FROM TempDividendHistory WHERE ticker IS NULL OR dividend_year IS NULL OR dividend_per_share IS NULL OR dividend_value IS NULL OR payment_date IS NULL\").display()"
   ]
  },
  {
   "cell_type": "code",
   "execution_count": 0,
   "metadata": {
    "application/vnd.databricks.v1+cell": {
     "cellMetadata": {
      "byteLimit": 2048000,
      "implicitDf": true,
      "rowLimit": 10000
     },
     "inputWidgets": {},
     "nuid": "29405557-7de6-4920-ae5f-d68bd6494827",
     "showTitle": false,
     "tableResultSettingsMap": {},
     "title": ""
    }
   },
   "outputs": [],
   "source": [
    "%sql\n",
    "\n",
    "SELECT * FROM TempDividendHistory WHERE payment_date >= '3000-1-1';"
   ]
  },
  {
   "cell_type": "code",
   "execution_count": 0,
   "metadata": {
    "application/vnd.databricks.v1+cell": {
     "cellMetadata": {
      "byteLimit": 2048000,
      "rowLimit": 10000
     },
     "inputWidgets": {},
     "nuid": "e7c4e627-1cc1-4268-868b-0168b7e84d89",
     "showTitle": false,
     "tableResultSettingsMap": {},
     "title": ""
    }
   },
   "outputs": [],
   "source": [
    "count_with_distinct = spark.sql(\"SELECT DISTINCT COUNT(*) FROM TempDividendHistory\").collect()\n",
    "count_without_distinct = spark.sql(\"SELECT COUNT(*) FROM TempDividendHistory\").collect()\n",
    "print(count_with_distinct, count_without_distinct)\n"
   ]
  },
  {
   "cell_type": "code",
   "execution_count": 0,
   "metadata": {
    "application/vnd.databricks.v1+cell": {
     "cellMetadata": {
      "byteLimit": 2048000,
      "rowLimit": 10000
     },
     "inputWidgets": {},
     "nuid": "f6d8c4f8-438d-4f05-a568-d43268cb7f3c",
     "showTitle": false,
     "tableResultSettingsMap": {},
     "title": ""
    }
   },
   "outputs": [],
   "source": [
    "from pyspark.sql.functions import col, format_number\n",
    "from pyspark.sql.types import FloatType, DecimalType\n",
    "\n",
    "silver_df = df \\\n",
    "    .na.drop(how=\"any\") \\\n",
    "    .dropDuplicates() \\\n",
    "    .withColumn(\"dividend_year\", col(\"dividend_year\").cast(\"int\")) \\\n",
    "    .withColumn(\"dividend_per_share\", col(\"dividend_per_share\").cast(DecimalType(12, 2))) \\\n",
    "    .withColumn(\"dividend_value\", col(\"dividend_value\").cast(DecimalType(12, 0))) \\\n",
    "    .withColumn(\"dividend_value\", col(\"dividend_value\")*1000) \\\n",
    "    .withColumn(\"payment_date\", col(\"payment_date\").cast(\"date\"))\n",
    "silver_df.display()"
   ]
  },
  {
   "cell_type": "code",
   "execution_count": 0,
   "metadata": {
    "application/vnd.databricks.v1+cell": {
     "cellMetadata": {
      "byteLimit": 2048000,
      "rowLimit": 10000
     },
     "inputWidgets": {},
     "nuid": "d7d4e851-d977-4fa0-9c8a-59fd41c40340",
     "showTitle": false,
     "tableResultSettingsMap": {},
     "title": ""
    }
   },
   "outputs": [],
   "source": [
    "from delta.tables import DeltaTable\n",
    "\n",
    "table_name = 'plstocks.silver_dividend_history'\n",
    "if spark.catalog.tableExists(table_name):\n",
    "    ExistingDididendTable = DeltaTable.forName(spark, table_name)\n",
    "    ExistingDididendTable.alias(\"existing\") \\\n",
    "        .merge(\n",
    "            silver_df.alias(\"updates\"),\n",
    "            \"existing.ticker = updates.ticker AND existing.dividend_year = updates.dividend_year\"\n",
    "        ) \\\n",
    "        .whenMatchedUpdateAll() \\\n",
    "        .whenNotMatchedInsertAll() \\\n",
    "        .execute()\n",
    "else:\n",
    "    silver_df.write \\\n",
    "        .format(\"delta\") \\\n",
    "        .mode(\"overwrite\") \\\n",
    "        .saveAsTable(table_name)"
   ]
  }
 ],
 "metadata": {
  "application/vnd.databricks.v1+notebook": {
   "computePreferences": null,
   "dashboards": [],
   "environmentMetadata": {
    "base_environment": "",
    "environment_version": "2"
   },
   "inputWidgetPreferences": null,
   "language": "python",
   "notebookMetadata": {
    "mostRecentlyExecutedCommandWithImplicitDF": {
     "commandId": 6977404155976500,
     "dataframes": [
      "_sqldf"
     ]
    },
    "pythonIndentUnit": 4
   },
   "notebookName": "DividendHistory",
   "widgets": {}
  },
  "language_info": {
   "name": "python"
  }
 },
 "nbformat": 4,
 "nbformat_minor": 0
}
