{
 "cells": [
  {
   "cell_type": "code",
   "execution_count": 0,
   "metadata": {
    "application/vnd.databricks.v1+cell": {
     "cellMetadata": {
      "byteLimit": 2048000,
      "rowLimit": 10000
     },
     "inputWidgets": {},
     "nuid": "05247ffc-e69c-4146-a146-4c8b68ac12d3",
     "showTitle": false,
     "tableResultSettingsMap": {},
     "title": ""
    }
   },
   "outputs": [],
   "source": [
    "import asyncio\n",
    "from azure.servicebus.aio import ServiceBusClient\n",
    "from azure.servicebus import ServiceBusMessage"
   ]
  },
  {
   "cell_type": "code",
   "execution_count": 0,
   "metadata": {
    "application/vnd.databricks.v1+cell": {
     "cellMetadata": {
      "byteLimit": 2048000,
      "rowLimit": 10000
     },
     "inputWidgets": {},
     "nuid": "b85cbb5a-e1cc-4d35-b74d-8d7bcf77adaa",
     "showTitle": false,
     "tableResultSettingsMap": {},
     "title": ""
    }
   },
   "outputs": [],
   "source": [
    "NAMESPACE_CONNECTION_STR = dbutils.secrets.get(scope=\"servicebus\", key=\"connection_string\")\n",
    "QUEUE_NAME = \"financial_report_queue\""
   ]
  },
  {
   "cell_type": "code",
   "execution_count": 0,
   "metadata": {
    "application/vnd.databricks.v1+cell": {
     "cellMetadata": {
      "byteLimit": 2048000,
      "rowLimit": 10000
     },
     "inputWidgets": {},
     "nuid": "de45e4c5-009e-4bd4-ad3a-32f458d54986",
     "showTitle": false,
     "tableResultSettingsMap": {},
     "title": ""
    }
   },
   "outputs": [],
   "source": [
    "async def send_batch_message(sender):\n",
    "    async with sender:\n",
    "        batch_message = await sender.create_message_batch()\n",
    "        for _ in range(5):\n",
    "            try:\n",
    "                batch_message.add_message(ServiceBusMessage(\"Message inside a ServiceBusMessageBatch\"))\n",
    "            except ValueError:\n",
    "                break\n",
    "        await sender.send_messages(batch_message)\n",
    "    print(\"Sent a batch of 5 messages\")"
   ]
  },
  {
   "cell_type": "code",
   "execution_count": 0,
   "metadata": {
    "application/vnd.databricks.v1+cell": {
     "cellMetadata": {
      "byteLimit": 2048000,
      "rowLimit": 10000
     },
     "inputWidgets": {},
     "nuid": "9623e66c-a0f2-453d-a50e-c074a7a9b9b7",
     "showTitle": false,
     "tableResultSettingsMap": {},
     "title": ""
    }
   },
   "outputs": [],
   "source": [
    "async def run_and_send():\n",
    "    async with ServiceBusClient.from_connection_string(\n",
    "        conn_str=NAMESPACE_CONNECTION_STR,\n",
    "        logging_enable=True) as servicebus_client:\n",
    "        sender = servicebus_client.get_queue_sender(queue_name=QUEUE_NAME)\n",
    "        async with sender:\n",
    "            await send_batch_message(sender)"
   ]
  },
  {
   "cell_type": "code",
   "execution_count": 0,
   "metadata": {
    "application/vnd.databricks.v1+cell": {
     "cellMetadata": {
      "byteLimit": 2048000,
      "rowLimit": 10000
     },
     "inputWidgets": {},
     "nuid": "1205bd78-7afa-4cb4-9eb6-b104eaa9f6c3",
     "showTitle": false,
     "tableResultSettingsMap": {},
     "title": ""
    }
   },
   "outputs": [],
   "source": [
    "await run_and_send()\n",
    "print(\"Done sending messages\")\n",
    "print(\"-----------------------\")"
   ]
  },
  {
   "cell_type": "code",
   "execution_count": 0,
   "metadata": {
    "application/vnd.databricks.v1+cell": {
     "cellMetadata": {
      "byteLimit": 2048000,
      "rowLimit": 10000
     },
     "inputWidgets": {},
     "nuid": "dfbe45d0-f2a8-4576-98f6-eeeb93272cb5",
     "showTitle": false,
     "tableResultSettingsMap": {},
     "title": ""
    }
   },
   "outputs": [],
   "source": [
    "async def run_and_receive():\n",
    "    async with ServiceBusClient.from_connection_string(\n",
    "        conn_str=NAMESPACE_CONNECTION_STR,\n",
    "        logging_enable=True) as servicebus_client:\n",
    "\n",
    "        async with servicebus_client:\n",
    "            receiver = servicebus_client.get_queue_receiver(queue_name=QUEUE_NAME)\n",
    "            async with receiver:\n",
    "                received_msgs = await receiver.receive_messages(max_wait_time=5, max_message_count=450)\n",
    "                for msg in received_msgs:\n",
    "                    print(\"Received: \" + str(msg))\n",
    "                    await receiver.complete_message(msg)"
   ]
  },
  {
   "cell_type": "code",
   "execution_count": 0,
   "metadata": {
    "application/vnd.databricks.v1+cell": {
     "cellMetadata": {
      "byteLimit": 2048000,
      "rowLimit": 10000
     },
     "inputWidgets": {},
     "nuid": "9e5a57eb-c493-4def-ac1a-dbc2abf48b8f",
     "showTitle": false,
     "tableResultSettingsMap": {},
     "title": ""
    }
   },
   "outputs": [],
   "source": [
    "await run_and_receive()\n",
    "print(\"Done receiving messages\")\n",
    "print(\"-----------------------\")"
   ]
  },
  {
   "cell_type": "code",
   "execution_count": 0,
   "metadata": {
    "application/vnd.databricks.v1+cell": {
     "cellMetadata": {
      "byteLimit": 2048000,
      "rowLimit": 10000
     },
     "inputWidgets": {},
     "nuid": "b250e431-d84f-4e52-a21f-40801ddf77df",
     "showTitle": false,
     "tableResultSettingsMap": {},
     "title": ""
    }
   },
   "outputs": [],
   "source": [
    "active_stocks = spark.sql(\"SELECT DISTINCT TICKER FROM plstocks.silver_stocks_price WHERE active is TRUE\")\n",
    "tickers_list = [row[\"TICKER\"] for row in active_stocks.collect()]\n",
    "print(tickers_list)"
   ]
  },
  {
   "cell_type": "code",
   "execution_count": 0,
   "metadata": {
    "application/vnd.databricks.v1+cell": {
     "cellMetadata": {
      "byteLimit": 2048000,
      "rowLimit": 10000
     },
     "inputWidgets": {},
     "nuid": "f34ca90f-2015-4471-8a97-7a9f3b122ed5",
     "showTitle": false,
     "tableResultSettingsMap": {},
     "title": ""
    }
   },
   "outputs": [],
   "source": [
    "\n",
    "async def send_active_stocks(connection_string, queue_name):\n",
    "     async with ServiceBusClient.from_connection_string(\n",
    "        conn_str=connection_string,\n",
    "        logging_enable=True) as servicebus_client:\n",
    "            sender = servicebus_client.get_queue_sender(queue_name=queue_name)\n",
    "            async with sender:\n",
    "                batch_message = await sender.create_message_batch()\n",
    "                for ticker in tickers_list:\n",
    "                    try:\n",
    "                        print(f\"Sending batch for ticker {ticker}\")\n",
    "                        batch_message.add_message(ServiceBusMessage(ticker))\n",
    "                    except ValueError:\n",
    "                        break\n",
    "                await sender.send_messages(batch_message)\n",
    "                print(\"Sent tickers\")\n"
   ]
  },
  {
   "cell_type": "code",
   "execution_count": 0,
   "metadata": {
    "application/vnd.databricks.v1+cell": {
     "cellMetadata": {
      "byteLimit": 2048000,
      "rowLimit": 10000
     },
     "inputWidgets": {},
     "nuid": "42138baf-b8af-4ae4-b27f-ea0738aca785",
     "showTitle": false,
     "tableResultSettingsMap": {},
     "title": ""
    }
   },
   "outputs": [],
   "source": [
    "await send_active_stocks(connection_string=NAMESPACE_CONNECTION_STR, queue_name=QUEUE_NAME)\n",
    "print(\"Done sending tickers\")\n",
    "print(\"-----------------------\")"
   ]
  },
  {
   "cell_type": "code",
   "execution_count": 0,
   "metadata": {
    "application/vnd.databricks.v1+cell": {
     "cellMetadata": {
      "byteLimit": 2048000,
      "rowLimit": 10000
     },
     "inputWidgets": {},
     "nuid": "ff63a263-a8f5-4348-b581-75afcc7cdf83",
     "showTitle": false,
     "tableResultSettingsMap": {},
     "title": ""
    }
   },
   "outputs": [],
   "source": [
    "dividend_connection_str = dbutils.secrets.get(scope=\"servicebus\", key=\"dividend_connection_string\")\n",
    "dividend_queue_name = \"dividend_queue\"\n",
    "await send_active_stocks(connection_string=dividend_connection_str, queue_name=dividend_queue_name)\n",
    "print(\"Done sending tickers\")\n",
    "print(\"-----------------------\")"
   ]
  },
  {
   "cell_type": "code",
   "execution_count": 0,
   "metadata": {
    "application/vnd.databricks.v1+cell": {
     "cellMetadata": {
      "byteLimit": 2048000,
      "rowLimit": 10000
     },
     "inputWidgets": {},
     "nuid": "2a2f3fb6-391f-4053-b7b8-10378205216b",
     "showTitle": false,
     "tableResultSettingsMap": {},
     "title": ""
    }
   },
   "outputs": [],
   "source": [
    "await send_active_stocks(connection_string=NAMESPACE_CONNECTION_STR, queue_name=QUEUE_NAME)\n",
    "print(\"Done sending tickers\")\n",
    "print(\"-----------------------\")"
   ]
  }
 ],
 "metadata": {
  "application/vnd.databricks.v1+notebook": {
   "computePreferences": null,
   "dashboards": [],
   "environmentMetadata": {
    "base_environment": "",
    "environment_version": "2"
   },
   "inputWidgetPreferences": null,
   "language": "python",
   "notebookMetadata": {
    "pythonIndentUnit": 4
   },
   "notebookName": "QueueHandling",
   "widgets": {}
  },
  "language_info": {
   "name": "python"
  }
 },
 "nbformat": 4,
 "nbformat_minor": 0
}
